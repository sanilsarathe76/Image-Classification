{
  "nbformat": 4,
  "nbformat_minor": 0,
  "metadata": {
    "colab": {
      "name": "dog_cat_classifier.ipynb",
      "provenance": [],
      "collapsed_sections": []
    },
    "kernelspec": {
      "name": "python3",
      "display_name": "Python 3"
    },
    "language_info": {
      "name": "python"
    },
    "accelerator": "GPU"
  },
  "cells": [
    {
      "cell_type": "markdown",
      "metadata": {
        "id": "pdNc4aAewD8s"
      },
      "source": [
        "# Convolutional Neural Network"
      ]
    },
    {
      "cell_type": "markdown",
      "metadata": {
        "id": "Z1hbMFo0wD_j"
      },
      "source": [
        "## Importing the libraries"
      ]
    },
    {
      "cell_type": "code",
      "metadata": {
        "id": "YB7vyr0IxXC-"
      },
      "source": [
        "import tensorflow as tf\n",
        "from keras.preprocessing.image import ImageDataGenerator"
      ],
      "execution_count": null,
      "outputs": []
    },
    {
      "cell_type": "code",
      "metadata": {
        "colab": {
          "base_uri": "https://localhost:8080/",
          "height": 35
        },
        "id": "zfBBnJVSyHpc",
        "outputId": "0514a1b6-b54c-45b5-afd1-4e2f0d4511ca"
      },
      "source": [
        "tf.__version__"
      ],
      "execution_count": null,
      "outputs": [
        {
          "output_type": "execute_result",
          "data": {
            "application/vnd.google.colaboratory.intrinsic+json": {
              "type": "string"
            },
            "text/plain": [
              "'2.4.1'"
            ]
          },
          "metadata": {
            "tags": []
          },
          "execution_count": 3
        }
      ]
    },
    {
      "cell_type": "markdown",
      "metadata": {
        "id": "tnvPVdVxwEB7"
      },
      "source": [
        "# Part 1 - Data Preprocessing"
      ]
    },
    {
      "cell_type": "markdown",
      "metadata": {
        "id": "w6PmfFolwEHr"
      },
      "source": [
        "## Preprocessing the Training set"
      ]
    },
    {
      "cell_type": "code",
      "metadata": {
        "colab": {
          "base_uri": "https://localhost:8080/"
        },
        "id": "y4ZB0vt2xYLz",
        "outputId": "eea5e211-f4e8-419a-fef8-46dd1bb329d2"
      },
      "source": [
        "train_datagen = ImageDataGenerator(\n",
        "    rescale = 1./25,\n",
        "    shear_range = 0.2,\n",
        "    zoom_range = 0.2,\n",
        "    horizontal_flip = True)\n",
        "\n",
        "train_generator = train_datagen.flow_from_directory(\n",
        "    '/content/drive/MyDrive/Udemy ML/CNN(Convolution Neural Network)/Section 40 - Convolutional Neural Networks (CNN)/dataset/training_set',\n",
        "    target_size = (64,64),\n",
        "    batch_size = 32,\n",
        "    class_mode = 'binary')"
      ],
      "execution_count": null,
      "outputs": [
        {
          "output_type": "stream",
          "text": [
            "Found 8000 images belonging to 2 classes.\n"
          ],
          "name": "stdout"
        }
      ]
    },
    {
      "cell_type": "markdown",
      "metadata": {
        "id": "XeKLwZQpwEKS"
      },
      "source": [
        "## Preprocessing the Test set"
      ]
    },
    {
      "cell_type": "code",
      "metadata": {
        "colab": {
          "base_uri": "https://localhost:8080/"
        },
        "id": "M_MgoqR5xYsQ",
        "outputId": "834f36f6-4f20-4474-e9f4-765a62820e3d"
      },
      "source": [
        "test_datagen = ImageDataGenerator(rescale=1./255)\n",
        "\n",
        "test_set = test_datagen.flow_from_directory(\n",
        "    '/content/drive/MyDrive/Udemy ML/CNN(Convolution Neural Network)/Section 40 - Convolutional Neural Networks (CNN)/dataset/test_set',\n",
        "    target_size = (64,64),\n",
        "    batch_size = 32,\n",
        "    class_mode = 'binary')"
      ],
      "execution_count": null,
      "outputs": [
        {
          "output_type": "stream",
          "text": [
            "Found 2000 images belonging to 2 classes.\n"
          ],
          "name": "stdout"
        }
      ]
    },
    {
      "cell_type": "markdown",
      "metadata": {
        "id": "C8elXXc8wENJ"
      },
      "source": [
        "# Part 2 - Building the CNN"
      ]
    },
    {
      "cell_type": "markdown",
      "metadata": {
        "id": "V0_bxqYMwEP8"
      },
      "source": [
        "## Initilizing the CNN"
      ]
    },
    {
      "cell_type": "code",
      "metadata": {
        "id": "5AF02u5MxZbQ"
      },
      "source": [
        "cnn = tf.keras.models.Sequential()"
      ],
      "execution_count": null,
      "outputs": []
    },
    {
      "cell_type": "markdown",
      "metadata": {
        "id": "cpjxwWHjwES3"
      },
      "source": [
        "## Step 1 - Convolution"
      ]
    },
    {
      "cell_type": "code",
      "metadata": {
        "id": "GeAIkW-6xabY"
      },
      "source": [
        "cnn.add(tf.keras.layers.Conv2D(filters=32, kernel_size=3, activation='relu', input_shape=[64, 64, 3]))"
      ],
      "execution_count": null,
      "outputs": []
    },
    {
      "cell_type": "markdown",
      "metadata": {
        "id": "9ynFkBf7wEVN"
      },
      "source": [
        "## Step 2 - Pooling"
      ]
    },
    {
      "cell_type": "code",
      "metadata": {
        "id": "wE47Vx1Yxa2I"
      },
      "source": [
        "cnn.add(tf.keras.layers.MaxPool2D(pool_size=2, strides=2))"
      ],
      "execution_count": null,
      "outputs": []
    },
    {
      "cell_type": "markdown",
      "metadata": {
        "id": "_XmiDN9vwEXr"
      },
      "source": [
        "## Adding the second convolutional layer"
      ]
    },
    {
      "cell_type": "code",
      "metadata": {
        "id": "VUPUYOFs8Ofd"
      },
      "source": [
        "cnn.add(tf.keras.layers.Conv2D(filters=32, kernel_size=3, activation='relu'))\n",
        "cnn.add(tf.keras.layers.MaxPool2D(pool_size=2, strides=2))"
      ],
      "execution_count": null,
      "outputs": []
    },
    {
      "cell_type": "markdown",
      "metadata": {
        "id": "2KfAg9dtwEaJ"
      },
      "source": [
        "## Step 3 - Flattening"
      ]
    },
    {
      "cell_type": "code",
      "metadata": {
        "id": "BXcskHuexdvo"
      },
      "source": [
        "cnn.add(tf.keras.layers.Flatten())"
      ],
      "execution_count": null,
      "outputs": []
    },
    {
      "cell_type": "markdown",
      "metadata": {
        "id": "QGizdQdSwEcS"
      },
      "source": [
        "\n",
        "## Step 4 - Full Connection"
      ]
    },
    {
      "cell_type": "code",
      "metadata": {
        "id": "pDccvvcnxeNK"
      },
      "source": [
        "cnn.add(tf.keras.layers.Dense(units=128, activation='relu'))"
      ],
      "execution_count": null,
      "outputs": []
    },
    {
      "cell_type": "markdown",
      "metadata": {
        "id": "Kh-GVKL7wEe2"
      },
      "source": [
        "## Step 5 - Output layer"
      ]
    },
    {
      "cell_type": "code",
      "metadata": {
        "id": "vuo0s8vMxeoY"
      },
      "source": [
        "cnn.add(tf.keras.layers.Dense(units=1, activation='sigmoid'))"
      ],
      "execution_count": null,
      "outputs": []
    },
    {
      "cell_type": "markdown",
      "metadata": {
        "id": "AhYUgz1-wEhL"
      },
      "source": [
        "# Part 3 - Training the CNN"
      ]
    },
    {
      "cell_type": "markdown",
      "metadata": {
        "id": "-nhPNKO_wEjm"
      },
      "source": [
        "## Compiling the CNN"
      ]
    },
    {
      "cell_type": "code",
      "metadata": {
        "id": "n81di8dzxfzR"
      },
      "source": [
        "cnn.compile(optimizer = 'adam', loss = 'binary_crossentropy', metrics = ['accuracy'])"
      ],
      "execution_count": null,
      "outputs": []
    },
    {
      "cell_type": "markdown",
      "metadata": {
        "id": "FT90CpPcwEl5"
      },
      "source": [
        "## Training the CNN on the Training set and evaluating it on the test set"
      ]
    },
    {
      "cell_type": "code",
      "metadata": {
        "colab": {
          "base_uri": "https://localhost:8080/"
        },
        "id": "8g-uu7_ixibI",
        "outputId": "5edbe110-ba32-4548-a6e6-91993fceff66"
      },
      "source": [
        "cnn.fit(x = train_generator, validation_data = test_set, epochs = 25)"
      ],
      "execution_count": null,
      "outputs": [
        {
          "output_type": "stream",
          "text": [
            "250/250 [==============================] - 3005s 12s/step - loss: 0.8410 - accuracy: 0.5224 - val_loss: 0.6870 - val_accuracy: 0.6160\n",
            "Epoch 2/25\n",
            "250/250 [==============================] - 42s 170ms/step - loss: 0.6572 - accuracy: 0.6149 - val_loss: 0.6829 - val_accuracy: 0.5070\n",
            "Epoch 3/25\n",
            "250/250 [==============================] - 42s 168ms/step - loss: 0.6088 - accuracy: 0.6731 - val_loss: 0.7827 - val_accuracy: 0.5000\n",
            "Epoch 4/25\n",
            "250/250 [==============================] - 42s 168ms/step - loss: 0.5589 - accuracy: 0.7095 - val_loss: 0.7849 - val_accuracy: 0.5000\n",
            "Epoch 5/25\n",
            "250/250 [==============================] - 42s 168ms/step - loss: 0.5257 - accuracy: 0.7302 - val_loss: 1.6899 - val_accuracy: 0.5000\n",
            "Epoch 6/25\n",
            "250/250 [==============================] - 42s 167ms/step - loss: 0.4965 - accuracy: 0.7454 - val_loss: 1.5906 - val_accuracy: 0.4995\n",
            "Epoch 7/25\n",
            "250/250 [==============================] - 42s 168ms/step - loss: 0.4929 - accuracy: 0.7529 - val_loss: 1.5291 - val_accuracy: 0.5000\n",
            "Epoch 8/25\n",
            "250/250 [==============================] - 42s 169ms/step - loss: 0.4736 - accuracy: 0.7731 - val_loss: 3.4352 - val_accuracy: 0.5000\n",
            "Epoch 9/25\n",
            "250/250 [==============================] - 42s 169ms/step - loss: 0.4495 - accuracy: 0.7951 - val_loss: 3.1729 - val_accuracy: 0.5000\n",
            "Epoch 10/25\n",
            "250/250 [==============================] - 42s 168ms/step - loss: 0.4273 - accuracy: 0.7989 - val_loss: 4.4751 - val_accuracy: 0.5000\n",
            "Epoch 11/25\n",
            "250/250 [==============================] - 42s 168ms/step - loss: 0.4159 - accuracy: 0.8083 - val_loss: 2.8939 - val_accuracy: 0.5000\n",
            "Epoch 12/25\n",
            "250/250 [==============================] - 42s 168ms/step - loss: 0.3852 - accuracy: 0.8212 - val_loss: 3.0821 - val_accuracy: 0.5000\n",
            "Epoch 13/25\n",
            "250/250 [==============================] - 42s 168ms/step - loss: 0.3557 - accuracy: 0.8380 - val_loss: 2.6767 - val_accuracy: 0.5015\n",
            "Epoch 14/25\n",
            "250/250 [==============================] - 42s 167ms/step - loss: 0.3523 - accuracy: 0.8413 - val_loss: 3.3393 - val_accuracy: 0.5005\n",
            "Epoch 15/25\n",
            "250/250 [==============================] - 42s 167ms/step - loss: 0.3245 - accuracy: 0.8600 - val_loss: 6.4030 - val_accuracy: 0.5000\n",
            "Epoch 16/25\n",
            "250/250 [==============================] - 43s 170ms/step - loss: 0.3158 - accuracy: 0.8673 - val_loss: 4.1500 - val_accuracy: 0.5005\n",
            "Epoch 17/25\n",
            "250/250 [==============================] - 42s 167ms/step - loss: 0.3002 - accuracy: 0.8710 - val_loss: 4.2918 - val_accuracy: 0.5000\n",
            "Epoch 18/25\n",
            "250/250 [==============================] - 42s 167ms/step - loss: 0.2877 - accuracy: 0.8834 - val_loss: 6.9976 - val_accuracy: 0.5000\n",
            "Epoch 19/25\n",
            "250/250 [==============================] - 42s 168ms/step - loss: 0.2706 - accuracy: 0.8868 - val_loss: 3.5444 - val_accuracy: 0.4990\n",
            "Epoch 20/25\n",
            "250/250 [==============================] - 42s 167ms/step - loss: 0.2315 - accuracy: 0.9060 - val_loss: 6.3989 - val_accuracy: 0.5000\n",
            "Epoch 21/25\n",
            "250/250 [==============================] - 42s 166ms/step - loss: 0.2251 - accuracy: 0.9065 - val_loss: 4.1301 - val_accuracy: 0.4990\n",
            "Epoch 22/25\n",
            "250/250 [==============================] - 41s 166ms/step - loss: 0.2351 - accuracy: 0.9021 - val_loss: 3.8305 - val_accuracy: 0.4990\n",
            "Epoch 23/25\n",
            "250/250 [==============================] - 42s 168ms/step - loss: 0.2099 - accuracy: 0.9131 - val_loss: 3.5072 - val_accuracy: 0.5000\n",
            "Epoch 24/25\n",
            "250/250 [==============================] - 42s 167ms/step - loss: 0.1993 - accuracy: 0.9143 - val_loss: 8.2150 - val_accuracy: 0.5000\n",
            "Epoch 25/25\n",
            "250/250 [==============================] - 41s 166ms/step - loss: 0.1923 - accuracy: 0.9182 - val_loss: 6.2906 - val_accuracy: 0.5010\n"
          ],
          "name": "stdout"
        },
        {
          "output_type": "execute_result",
          "data": {
            "text/plain": [
              "<tensorflow.python.keras.callbacks.History at 0x7f96e0b96a90>"
            ]
          },
          "metadata": {
            "tags": []
          },
          "execution_count": 15
        }
      ]
    },
    {
      "cell_type": "markdown",
      "metadata": {
        "id": "6mBHJ8zwxOWJ"
      },
      "source": [
        "# Part 4 - Making a single prediction"
      ]
    },
    {
      "cell_type": "code",
      "metadata": {
        "id": "CcSGFjWdxUdq"
      },
      "source": [
        "import numpy as np\n",
        "from keras.preprocessing import image\n",
        "test_image = image.load_img('/content/drive/MyDrive/Udemy ML/CNN(Convolution Neural Network)/Section 40 - Convolutional Neural Networks (CNN)/dataset/single_prediction/cat_or_dog_3.jpg',\n",
        "                            target_size= (64, 64))\n",
        "test_image = image.img_to_array(test_image)\n",
        "test_image = np.expand_dims(test_image, axis = 0)\n",
        "result = cnn.predict(test_image)\n",
        "train_generator.class_indices\n",
        "if result[0][0] == 1:\n",
        "  prediction = 'dog'\n",
        "else:\n",
        "  prediction = 'cat'"
      ],
      "execution_count": null,
      "outputs": []
    },
    {
      "cell_type": "code",
      "metadata": {
        "colab": {
          "base_uri": "https://localhost:8080/"
        },
        "id": "jE_UfTNQCId4",
        "outputId": "3d2127b1-73bd-41fa-b7da-88c4f36c7204"
      },
      "source": [
        "print(prediction)"
      ],
      "execution_count": null,
      "outputs": [
        {
          "output_type": "stream",
          "text": [
            "cat\n"
          ],
          "name": "stdout"
        }
      ]
    }
  ]
}